{
  "nbformat": 4,
  "nbformat_minor": 0,
  "metadata": {
    "colab": {
      "name": "ASLdetection.ipynb",
      "provenance": [],
      "authorship_tag": "ABX9TyNy0LfAbhJq2oAspJCkESwr",
      "include_colab_link": true
    },
    "kernelspec": {
      "name": "python3",
      "display_name": "Python 3"
    },
    "accelerator": "GPU"
  },
  "cells": [
    {
      "cell_type": "markdown",
      "metadata": {
        "id": "view-in-github",
        "colab_type": "text"
      },
      "source": [
        "<a href=\"https://colab.research.google.com/github/Blackcipher101/ASL-detector/blob/main/ASLdetection.ipynb\" target=\"_parent\"><img src=\"https://colab.research.google.com/assets/colab-badge.svg\" alt=\"Open In Colab\"/></a>"
      ]
    },
    {
      "cell_type": "code",
      "metadata": {
        "id": "_wTNrFRjZ95a",
        "outputId": "9eac8b45-ba27-493a-c4b5-e0e6e9e4ca7c",
        "colab": {
          "base_uri": "https://localhost:8080/",
          "height": 221
        }
      },
      "source": [
        "!pip install kaggle"
      ],
      "execution_count": 1,
      "outputs": [
        {
          "output_type": "stream",
          "text": [
            "Requirement already satisfied: kaggle in /usr/local/lib/python3.6/dist-packages (1.5.8)\n",
            "Requirement already satisfied: certifi in /usr/local/lib/python3.6/dist-packages (from kaggle) (2020.6.20)\n",
            "Requirement already satisfied: python-slugify in /usr/local/lib/python3.6/dist-packages (from kaggle) (4.0.1)\n",
            "Requirement already satisfied: tqdm in /usr/local/lib/python3.6/dist-packages (from kaggle) (4.41.1)\n",
            "Requirement already satisfied: six>=1.10 in /usr/local/lib/python3.6/dist-packages (from kaggle) (1.15.0)\n",
            "Requirement already satisfied: slugify in /usr/local/lib/python3.6/dist-packages (from kaggle) (0.0.1)\n",
            "Requirement already satisfied: python-dateutil in /usr/local/lib/python3.6/dist-packages (from kaggle) (2.8.1)\n",
            "Requirement already satisfied: requests in /usr/local/lib/python3.6/dist-packages (from kaggle) (2.23.0)\n",
            "Requirement already satisfied: urllib3<1.25,>=1.21.1 in /usr/local/lib/python3.6/dist-packages (from kaggle) (1.24.3)\n",
            "Requirement already satisfied: text-unidecode>=1.3 in /usr/local/lib/python3.6/dist-packages (from python-slugify->kaggle) (1.3)\n",
            "Requirement already satisfied: chardet<4,>=3.0.2 in /usr/local/lib/python3.6/dist-packages (from requests->kaggle) (3.0.4)\n",
            "Requirement already satisfied: idna<3,>=2.5 in /usr/local/lib/python3.6/dist-packages (from requests->kaggle) (2.10)\n"
          ],
          "name": "stdout"
        }
      ]
    },
    {
      "cell_type": "code",
      "metadata": {
        "id": "uuItsnRabX0j",
        "outputId": "b2293318-4b0e-4f0e-cd0a-2bc71a9a9c6c",
        "colab": {
          "base_uri": "https://localhost:8080/",
          "height": 34
        }
      },
      "source": [
        "!mkdir .kaggle"
      ],
      "execution_count": 2,
      "outputs": [
        {
          "output_type": "stream",
          "text": [
            "mkdir: cannot create directory ‘.kaggle’: File exists\n"
          ],
          "name": "stdout"
        }
      ]
    },
    {
      "cell_type": "code",
      "metadata": {
        "id": "6ZrOJ9bhbeP9"
      },
      "source": [
        "import json\n",
        "token = {\"username\":\"nehalnevle\",\"key\":\"f56fbefc794d7437f2952910cd1d058d\"}\n",
        "with open('/content/.kaggle/kaggle.json', 'w') as file:\n",
        "    json.dump(token, file)"
      ],
      "execution_count": 3,
      "outputs": []
    },
    {
      "cell_type": "code",
      "metadata": {
        "id": "2hV68CqUcFVh",
        "outputId": "9e1d75b6-5d37-4e9a-a703-f3ec32eac048",
        "colab": {
          "base_uri": "https://localhost:8080/",
          "height": 34
        }
      },
      "source": [
        "!mkdir /root/.kaggle"
      ],
      "execution_count": 4,
      "outputs": [
        {
          "output_type": "stream",
          "text": [
            "mkdir: cannot create directory ‘/root/.kaggle’: File exists\n"
          ],
          "name": "stdout"
        }
      ]
    },
    {
      "cell_type": "code",
      "metadata": {
        "id": "G8Pmhkpsbr1M"
      },
      "source": [
        "!cp /content/.kaggle/kaggle.json ~/.kaggle/kaggle.json"
      ],
      "execution_count": 5,
      "outputs": []
    },
    {
      "cell_type": "code",
      "metadata": {
        "id": "6e9ZdUaKczYw",
        "outputId": "6658ef2e-f0d2-432f-e45e-cdfda4d8135f",
        "colab": {
          "base_uri": "https://localhost:8080/",
          "height": 34
        }
      },
      "source": [
        "!kaggle config set -n path -v/content"
      ],
      "execution_count": 6,
      "outputs": [
        {
          "output_type": "stream",
          "text": [
            "- path is now set to: /content\n"
          ],
          "name": "stdout"
        }
      ]
    },
    {
      "cell_type": "code",
      "metadata": {
        "id": "4_7plypXc6jb"
      },
      "source": [
        "!chmod 600 /root/.kaggle/kaggle.json"
      ],
      "execution_count": 7,
      "outputs": []
    },
    {
      "cell_type": "code",
      "metadata": {
        "id": "5hgE8hOOdAAZ",
        "outputId": "e27cce8e-5cc8-4f85-ba2f-c0efdaceda24",
        "colab": {
          "base_uri": "https://localhost:8080/",
          "height": 408
        }
      },
      "source": [
        "!kaggle datasets list"
      ],
      "execution_count": 8,
      "outputs": [
        {
          "output_type": "stream",
          "text": [
            "Warning: Looks like you're using an outdated API Version, please consider updating (server 1.5.6 / client 1.5.4)\n",
            "ref                                                               title                                                 size  lastUpdated          downloadCount  \n",
            "----------------------------------------------------------------  --------------------------------------------------  ------  -------------------  -------------  \n",
            "heeraldedhia/groceries-dataset                                    Groceries dataset                                    257KB  2020-09-17 04:36:08            863  \n",
            "andrewmvd/trip-advisor-hotel-reviews                              Trip Advisor Hotel Reviews                             5MB  2020-09-30 08:31:20            456  \n",
            "balraj98/stanford-background-dataset                              Stanford Background Dataset                           17MB  2020-09-26 12:57:59             79  \n",
            "nehaprabhavalkar/indian-food-101                                  Indian Food 101                                        7KB  2020-09-30 06:23:43            631  \n",
            "christianlillelund/donald-trumps-rallies                          Donald Trump's Rallies                               720KB  2020-09-26 10:25:08            103  \n",
            "jilkothari/finance-accounting-courses-udemy-13k-course            Finance & Accounting Courses - Udemy (13K+ course)  1000KB  2020-09-17 12:46:12            220  \n",
            "balraj98/massachusetts-roads-dataset                              Massachusetts Roads Dataset                            6GB  2020-09-26 03:57:49             50  \n",
            "arslanali4343/top-personality-dataset                             Top Personality Dataset                                9MB  2020-09-27 21:25:45            238  \n",
            "gpreda/chinese-mnist                                              Chinese MNIST                                         10MB  2020-08-05 12:36:00            113  \n",
            "gpreda/local-elections-romania-2020                               Local Elections Romania 2020                          28MB  2020-09-27 20:46:11             43  \n",
            "anth7310/mental-health-in-the-tech-industry                       Mental Health in the Tech Industry                     2MB  2020-09-27 11:17:23            355  \n",
            "roshansharma/sanfranciso-crime-dataset                            Sanfranciso Crime Dataset                              6MB  2019-05-29 12:45:44           2976  \n",
            "bppuneethpai/tldr-summary-for-man-pages                           TLDR summary for man pages                             8MB  2020-09-25 09:50:10              9  \n",
            "sterby/german-recipes-dataset                                     German Recipes Dataset                                 5MB  2019-03-06 16:25:22            749  \n",
            "thomaskonstantin/top-270-rated-computer-science-programing-books  Top 270 Computer Science / Programing Books           45KB  2020-09-28 16:47:12            124  \n",
            "arslanali4343/real-estate-dataset                                 Real Estate DataSet                                   12KB  2020-09-28 21:25:33            244  \n",
            "leangab/poe-short-stories-corpuscsv                               E.A. Poe's corpus of short stories                   725KB  2020-09-28 11:43:08             41  \n",
            "oldaandozerskaya/fiction-corpus-for-agebased-text-classification  RusAge: Corpus for Age-Based Text Classification     509MB  2020-09-28 09:30:12             13  \n",
            "anmolkumar/health-insurance-cross-sell-prediction                 Health Insurance Cross Sell Prediction 🏠 🏥             6MB  2020-09-11 18:39:31           3388  \n",
            "ramjidoolla/ipl-data-set                                          IPL _Data_Set                                          1MB  2020-09-14 10:57:42           2813  \n"
          ],
          "name": "stdout"
        }
      ]
    },
    {
      "cell_type": "code",
      "metadata": {
        "id": "ggdck_aqdJte",
        "outputId": "5509f71f-d0db-47e7-8db9-28103cd0ac28",
        "colab": {
          "base_uri": "https://localhost:8080/",
          "height": 34
        }
      },
      "source": [
        "!kaggle datasets download -d datamunge/sign-language-mnist"
      ],
      "execution_count": 9,
      "outputs": [
        {
          "output_type": "stream",
          "text": [
            "sign-language-mnist.zip: Skipping, found more recently modified local copy (use --force to force download)\n"
          ],
          "name": "stdout"
        }
      ]
    },
    {
      "cell_type": "code",
      "metadata": {
        "id": "OwnxdfXIdWR4",
        "outputId": "dc07d8f0-593d-48a5-bc44-d26c289e7dba",
        "colab": {
          "base_uri": "https://localhost:8080/",
          "height": 272
        }
      },
      "source": [
        "!unzip '/content/datasets/datamunge/sign-language-mnist/*.zip' "
      ],
      "execution_count": 11,
      "outputs": [
        {
          "output_type": "stream",
          "text": [
            "Archive:  /content/datasets/datamunge/sign-language-mnist/sign-language-mnist.zip\n",
            "replace amer_sign2.png? [y]es, [n]o, [A]ll, [N]one, [r]ename: y\n",
            "  inflating: amer_sign2.png          \n",
            "replace amer_sign3.png? [y]es, [n]o, [A]ll, [N]one, [r]ename: y\n",
            "  inflating: amer_sign3.png          \n",
            "replace american_sign_language.PNG? [y]es, [n]o, [A]ll, [N]one, [r]ename: y\n",
            "  inflating: american_sign_language.PNG  \n",
            "replace sign_mnist_test.csv? [y]es, [n]o, [A]ll, [N]one, [r]ename: y\n",
            "  inflating: sign_mnist_test.csv     \n",
            "replace sign_mnist_test/sign_mnist_test.csv? [y]es, [n]o, [A]ll, [N]one, [r]ename: y\n",
            "  inflating: sign_mnist_test/sign_mnist_test.csv  \n",
            "replace sign_mnist_train.csv? [y]es, [n]o, [A]ll, [N]one, [r]ename: y\n",
            "  inflating: sign_mnist_train.csv    \n",
            "replace sign_mnist_train/sign_mnist_train.csv? [y]es, [n]o, [A]ll, [N]one, [r]ename: y\n",
            "  inflating: sign_mnist_train/sign_mnist_train.csv  \n"
          ],
          "name": "stdout"
        }
      ]
    },
    {
      "cell_type": "code",
      "metadata": {
        "id": "nVPfnoDvh49W"
      },
      "source": [
        "import os\n",
        "import numpy as np\n",
        "import glob\n",
        "import shutil\n",
        "import tensorflow as tf\n",
        "import matplotlib.pyplot as plt\n",
        "import pandas as pd"
      ],
      "execution_count": 116,
      "outputs": []
    },
    {
      "cell_type": "code",
      "metadata": {
        "id": "QuOvlqnuiNaK"
      },
      "source": [
        "train = pd.read_csv('/content/sign_mnist_train/sign_mnist_train.csv')\n",
        "test = pd.read_csv('/content/sign_mnist_test/sign_mnist_test.csv')"
      ],
      "execution_count": 166,
      "outputs": []
    },
    {
      "cell_type": "code",
      "metadata": {
        "id": "WmxXMPcKi7BW"
      },
      "source": [
        "labels = train['label'].values"
      ],
      "execution_count": 118,
      "outputs": []
    },
    {
      "cell_type": "code",
      "metadata": {
        "id": "zhMAKXZljfA9",
        "outputId": "b6793b4b-eea1-415b-ee02-3519be159385",
        "colab": {
          "base_uri": "https://localhost:8080/",
          "height": 51
        }
      },
      "source": [
        "unique_val = np.array(labels)\n",
        "np.unique(unique_val)"
      ],
      "execution_count": 119,
      "outputs": [
        {
          "output_type": "execute_result",
          "data": {
            "text/plain": [
              "array([ 0,  1,  2,  3,  4,  5,  6,  7,  8, 10, 11, 12, 13, 14, 15, 16, 17,\n",
              "       18, 19, 20, 21, 22, 23, 24])"
            ]
          },
          "metadata": {
            "tags": []
          },
          "execution_count": 119
        }
      ]
    },
    {
      "cell_type": "code",
      "metadata": {
        "id": "BmHqxqkxjqAg"
      },
      "source": [
        "train.drop('label', axis = 1, inplace = True)"
      ],
      "execution_count": 120,
      "outputs": []
    },
    {
      "cell_type": "code",
      "metadata": {
        "id": "8D41HFZmm1Di"
      },
      "source": [
        "IMAGE_RES = 224"
      ],
      "execution_count": 121,
      "outputs": []
    },
    {
      "cell_type": "code",
      "metadata": {
        "id": "YE0dM5limY2R"
      },
      "source": [
        "images = train.values\n",
        "images = np.array([np.reshape(i, (28, 28)) for i in images])\n",
        "#images = np.array([i.flatten() for i in images])"
      ],
      "execution_count": 135,
      "outputs": []
    },
    {
      "cell_type": "code",
      "metadata": {
        "id": "QtetdwmNmgiD",
        "outputId": "d9d3d843-de7d-4f1a-dc39-32ed84743c65",
        "colab": {
          "base_uri": "https://localhost:8080/",
          "height": 282
        }
      },
      "source": [
        "plt.imshow(images[0].reshape(28,28))"
      ],
      "execution_count": 136,
      "outputs": [
        {
          "output_type": "execute_result",
          "data": {
            "text/plain": [
              "<matplotlib.image.AxesImage at 0x7f09048f6fd0>"
            ]
          },
          "metadata": {
            "tags": []
          },
          "execution_count": 136
        },
        {
          "output_type": "display_data",
          "data": {
            "image/png": "[encoded data removed]",
            "text/plain": [
              "<Figure size 432x288 with 1 Axes>"
            ]
          },
          "metadata": {
            "tags": [],
            "needs_background": "light"
          }
        }
      ]
    },
    {
      "cell_type": "code",
      "metadata": {
        "id": "cT87CEDWxI-4"
      },
      "source": [
        "from sklearn.model_selection import train_test_split"
      ],
      "execution_count": 137,
      "outputs": []
    },
    {
      "cell_type": "code",
      "metadata": {
        "id": "Mmk-6pZVxZDn"
      },
      "source": [
        "x_train, x_test, y_train, y_test = train_test_split(images, labels, test_size = 0.3, random_state = 101)"
      ],
      "execution_count": 138,
      "outputs": []
    },
    {
      "cell_type": "code",
      "metadata": {
        "id": "JJucYUlXx6kQ"
      },
      "source": [
        "x_train = x_train / 255\n",
        "x_test = x_test / 255"
      ],
      "execution_count": 139,
      "outputs": []
    },
    {
      "cell_type": "code",
      "metadata": {
        "id": "MBkj0tuJx-wa"
      },
      "source": [
        "x_train = x_train.reshape(x_train.shape[0], 28, 28, 1)\n",
        "x_test = x_test.reshape(x_test.shape[0], 28, 28, 1)"
      ],
      "execution_count": 140,
      "outputs": []
    },
    {
      "cell_type": "code",
      "metadata": {
        "id": "ere0qJh5yH5h"
      },
      "source": [
        "from sklearn.preprocessing import LabelBinarizer\n",
        "label_binrizer = LabelBinarizer()\n",
        "labels = label_binrizer.fit_transform(labels)"
      ],
      "execution_count": 141,
      "outputs": []
    },
    {
      "cell_type": "code",
      "metadata": {
        "id": "-MKw2Zinxnzp"
      },
      "source": [
        "model = tf.keras.models.Sequential([\n",
        "    tf.keras.layers.Conv2D(32, (3,3), padding='same', activation='relu', input_shape=(28, 28, 1)),\n",
        "    tf.keras.layers.MaxPooling2D(2, 2),\n",
        "\n",
        "    tf.keras.layers.Conv2D(64, (3,3), padding='same', activation='relu'),\n",
        "    tf.keras.layers.MaxPooling2D(2,2),\n",
        "\n",
        "    tf.keras.layers.Conv2D(64, (3,3), padding='same', activation='relu'),\n",
        "    tf.keras.layers.MaxPooling2D(2,2),\n",
        "\n",
        "    tf.keras.layers.Dropout(0.2),\n",
        "    tf.keras.layers.Flatten(),\n",
        "    tf.keras.layers.Dense(128, activation='relu'),\n",
        "    tf.keras.layers.Dense(24,activation = 'softmax')\n",
        "])"
      ],
      "execution_count": 157,
      "outputs": []
    },
    {
      "cell_type": "code",
      "metadata": {
        "id": "S_MHrvunyQOO"
      },
      "source": [
        "batch_size = 128\n",
        "num_classes = 24\n",
        "epochs = 50"
      ],
      "execution_count": 158,
      "outputs": []
    },
    {
      "cell_type": "code",
      "metadata": {
        "id": "SWnxaWdFyVXW"
      },
      "source": [
        "model.compile(loss = tf.keras.losses.categorical_crossentropy, optimizer=tf.keras.optimizers.Adam(),\n",
        "              metrics=['accuracy'])"
      ],
      "execution_count": 159,
      "outputs": []
    },
    {
      "cell_type": "code",
      "metadata": {
        "id": "dft6GSeQyyDz",
        "outputId": "7af50df6-de94-4e84-a0f1-a5b3db09a767",
        "colab": {
          "base_uri": "https://localhost:8080/",
          "height": 493
        }
      },
      "source": [
        "model.summary()"
      ],
      "execution_count": 160,
      "outputs": [
        {
          "output_type": "stream",
          "text": [
            "Model: \"sequential_16\"\n",
            "_________________________________________________________________\n",
            "Layer (type)                 Output Shape              Param #   \n",
            "=================================================================\n",
            "conv2d_47 (Conv2D)           (None, 28, 28, 32)        320       \n",
            "_________________________________________________________________\n",
            "max_pooling2d_47 (MaxPooling (None, 14, 14, 32)        0         \n",
            "_________________________________________________________________\n",
            "conv2d_48 (Conv2D)           (None, 14, 14, 64)        18496     \n",
            "_________________________________________________________________\n",
            "max_pooling2d_48 (MaxPooling (None, 7, 7, 64)          0         \n",
            "_________________________________________________________________\n",
            "conv2d_49 (Conv2D)           (None, 7, 7, 64)          36928     \n",
            "_________________________________________________________________\n",
            "max_pooling2d_49 (MaxPooling (None, 3, 3, 64)          0         \n",
            "_________________________________________________________________\n",
            "dropout_14 (Dropout)         (None, 3, 3, 64)          0         \n",
            "_________________________________________________________________\n",
            "flatten_14 (Flatten)         (None, 576)               0         \n",
            "_________________________________________________________________\n",
            "dense_28 (Dense)             (None, 128)               73856     \n",
            "_________________________________________________________________\n",
            "dense_29 (Dense)             (None, 24)                3096      \n",
            "=================================================================\n",
            "Total params: 132,696\n",
            "Trainable params: 132,696\n",
            "Non-trainable params: 0\n",
            "_________________________________________________________________\n"
          ],
          "name": "stdout"
        }
      ]
    },
    {
      "cell_type": "code",
      "metadata": {
        "id": "E7W8Q68Ry6OQ",
        "outputId": "95249b96-cb78-454d-d664-d47b570938f3",
        "colab": {
          "base_uri": "https://localhost:8080/",
          "height": 1000
        }
      },
      "source": [
        "history = model.fit(x_train, y_train, validation_data = (x_test, y_test), epochs=epochs, batch_size=batch_size)"
      ],
      "execution_count": 161,
      "outputs": [
        {
          "output_type": "stream",
          "text": [
            "Epoch 1/50\n",
            "151/151 [==============================] - 1s 8ms/step - loss: 2.0913 - accuracy: 0.3728 - val_loss: 0.7045 - val_accuracy: 0.7846\n",
            "Epoch 2/50\n",
            "151/151 [==============================] - 1s 6ms/step - loss: 0.5162 - accuracy: 0.8282 - val_loss: 0.2416 - val_accuracy: 0.9376\n",
            "Epoch 3/50\n",
            "151/151 [==============================] - 1s 6ms/step - loss: 0.2244 - accuracy: 0.9295 - val_loss: 0.0908 - val_accuracy: 0.9806\n",
            "Epoch 4/50\n",
            "151/151 [==============================] - 1s 6ms/step - loss: 0.1147 - accuracy: 0.9652 - val_loss: 0.0332 - val_accuracy: 0.9972\n",
            "Epoch 5/50\n",
            "151/151 [==============================] - 1s 6ms/step - loss: 0.0697 - accuracy: 0.9808 - val_loss: 0.0177 - val_accuracy: 0.9992\n",
            "Epoch 6/50\n",
            "151/151 [==============================] - 1s 6ms/step - loss: 0.0515 - accuracy: 0.9849 - val_loss: 0.0091 - val_accuracy: 0.9998\n",
            "Epoch 7/50\n",
            "151/151 [==============================] - 1s 6ms/step - loss: 0.0345 - accuracy: 0.9909 - val_loss: 0.0141 - val_accuracy: 0.9972\n",
            "Epoch 8/50\n",
            "151/151 [==============================] - 1s 6ms/step - loss: 0.0278 - accuracy: 0.9918 - val_loss: 0.0060 - val_accuracy: 0.9996\n",
            "Epoch 9/50\n",
            "151/151 [==============================] - 1s 6ms/step - loss: 0.0200 - accuracy: 0.9952 - val_loss: 0.0031 - val_accuracy: 1.0000\n",
            "Epoch 10/50\n",
            "151/151 [==============================] - 1s 6ms/step - loss: 0.0197 - accuracy: 0.9947 - val_loss: 0.0044 - val_accuracy: 0.9998\n",
            "Epoch 11/50\n",
            "151/151 [==============================] - 1s 7ms/step - loss: 0.0184 - accuracy: 0.9946 - val_loss: 0.0047 - val_accuracy: 0.9990\n",
            "Epoch 12/50\n",
            "151/151 [==============================] - 1s 6ms/step - loss: 0.0149 - accuracy: 0.9954 - val_loss: 0.0034 - val_accuracy: 0.9995\n",
            "Epoch 13/50\n",
            "151/151 [==============================] - 1s 6ms/step - loss: 0.0125 - accuracy: 0.9966 - val_loss: 0.0023 - val_accuracy: 0.9998\n",
            "Epoch 14/50\n",
            "151/151 [==============================] - 1s 6ms/step - loss: 0.0124 - accuracy: 0.9959 - val_loss: 0.0023 - val_accuracy: 0.9994\n",
            "Epoch 15/50\n",
            "151/151 [==============================] - 1s 6ms/step - loss: 0.0115 - accuracy: 0.9969 - val_loss: 5.9627e-04 - val_accuracy: 0.9999\n",
            "Epoch 16/50\n",
            "151/151 [==============================] - 1s 6ms/step - loss: 0.0126 - accuracy: 0.9965 - val_loss: 0.0023 - val_accuracy: 0.9998\n",
            "Epoch 17/50\n",
            "151/151 [==============================] - 1s 6ms/step - loss: 0.0141 - accuracy: 0.9958 - val_loss: 7.2633e-04 - val_accuracy: 1.0000\n",
            "Epoch 18/50\n",
            "151/151 [==============================] - 1s 6ms/step - loss: 0.0106 - accuracy: 0.9966 - val_loss: 5.7745e-04 - val_accuracy: 1.0000\n",
            "Epoch 19/50\n",
            "151/151 [==============================] - 1s 6ms/step - loss: 0.0066 - accuracy: 0.9979 - val_loss: 5.3032e-04 - val_accuracy: 1.0000\n",
            "Epoch 20/50\n",
            "151/151 [==============================] - 1s 6ms/step - loss: 0.0089 - accuracy: 0.9970 - val_loss: 0.0114 - val_accuracy: 0.9949\n",
            "Epoch 21/50\n",
            "151/151 [==============================] - 1s 6ms/step - loss: 0.0121 - accuracy: 0.9963 - val_loss: 2.5666e-04 - val_accuracy: 1.0000\n",
            "Epoch 22/50\n",
            "151/151 [==============================] - 1s 6ms/step - loss: 0.0076 - accuracy: 0.9972 - val_loss: 0.0012 - val_accuracy: 0.9998\n",
            "Epoch 23/50\n",
            "151/151 [==============================] - 1s 6ms/step - loss: 0.0089 - accuracy: 0.9973 - val_loss: 5.9812e-04 - val_accuracy: 1.0000\n",
            "Epoch 24/50\n",
            "151/151 [==============================] - 1s 6ms/step - loss: 0.0081 - accuracy: 0.9973 - val_loss: 7.5778e-04 - val_accuracy: 0.9999\n",
            "Epoch 25/50\n",
            "151/151 [==============================] - 1s 6ms/step - loss: 0.0046 - accuracy: 0.9985 - val_loss: 1.5682e-04 - val_accuracy: 1.0000\n",
            "Epoch 26/50\n",
            "151/151 [==============================] - 1s 6ms/step - loss: 0.0098 - accuracy: 0.9973 - val_loss: 0.0018 - val_accuracy: 0.9995\n",
            "Epoch 27/50\n",
            "151/151 [==============================] - 1s 6ms/step - loss: 0.0095 - accuracy: 0.9968 - val_loss: 0.0021 - val_accuracy: 0.9990\n",
            "Epoch 28/50\n",
            "151/151 [==============================] - 1s 6ms/step - loss: 0.0044 - accuracy: 0.9985 - val_loss: 4.6832e-04 - val_accuracy: 1.0000\n",
            "Epoch 29/50\n",
            "151/151 [==============================] - 1s 6ms/step - loss: 0.0061 - accuracy: 0.9981 - val_loss: 3.8624e-04 - val_accuracy: 1.0000\n",
            "Epoch 30/50\n",
            "151/151 [==============================] - 1s 6ms/step - loss: 0.0026 - accuracy: 0.9994 - val_loss: 1.1444e-04 - val_accuracy: 1.0000\n",
            "Epoch 31/50\n",
            "151/151 [==============================] - 1s 6ms/step - loss: 0.0104 - accuracy: 0.9968 - val_loss: 3.2249e-04 - val_accuracy: 1.0000\n",
            "Epoch 32/50\n",
            "151/151 [==============================] - 1s 6ms/step - loss: 0.0066 - accuracy: 0.9978 - val_loss: 2.0556e-04 - val_accuracy: 1.0000\n",
            "Epoch 33/50\n",
            "151/151 [==============================] - 1s 6ms/step - loss: 0.0055 - accuracy: 0.9980 - val_loss: 5.0518e-04 - val_accuracy: 1.0000\n",
            "Epoch 34/50\n",
            "151/151 [==============================] - 1s 6ms/step - loss: 0.0020 - accuracy: 0.9995 - val_loss: 3.2282e-04 - val_accuracy: 0.9999\n",
            "Epoch 35/50\n",
            "151/151 [==============================] - 1s 6ms/step - loss: 0.0016 - accuracy: 0.9994 - val_loss: 9.5156e-05 - val_accuracy: 1.0000\n",
            "Epoch 36/50\n",
            "151/151 [==============================] - 1s 6ms/step - loss: 0.0094 - accuracy: 0.9967 - val_loss: 0.0134 - val_accuracy: 0.9973\n",
            "Epoch 37/50\n",
            "151/151 [==============================] - 1s 6ms/step - loss: 0.0090 - accuracy: 0.9974 - val_loss: 3.3122e-04 - val_accuracy: 1.0000\n",
            "Epoch 38/50\n",
            "151/151 [==============================] - 1s 6ms/step - loss: 0.0026 - accuracy: 0.9993 - val_loss: 2.7807e-04 - val_accuracy: 0.9999\n",
            "Epoch 39/50\n",
            "151/151 [==============================] - 1s 6ms/step - loss: 0.0044 - accuracy: 0.9987 - val_loss: 1.6605e-04 - val_accuracy: 1.0000\n",
            "Epoch 40/50\n",
            "151/151 [==============================] - 1s 6ms/step - loss: 0.0021 - accuracy: 0.9994 - val_loss: 7.8658e-04 - val_accuracy: 0.9998\n",
            "Epoch 41/50\n",
            "151/151 [==============================] - 1s 6ms/step - loss: 0.0103 - accuracy: 0.9963 - val_loss: 0.0050 - val_accuracy: 0.9981\n",
            "Epoch 42/50\n",
            "151/151 [==============================] - 1s 6ms/step - loss: 0.0086 - accuracy: 0.9971 - val_loss: 3.4695e-04 - val_accuracy: 0.9999\n",
            "Epoch 43/50\n",
            "151/151 [==============================] - 1s 6ms/step - loss: 0.0042 - accuracy: 0.9989 - val_loss: 6.8663e-05 - val_accuracy: 1.0000\n",
            "Epoch 44/50\n",
            "151/151 [==============================] - 1s 6ms/step - loss: 0.0012 - accuracy: 0.9996 - val_loss: 4.2974e-05 - val_accuracy: 1.0000\n",
            "Epoch 45/50\n",
            "151/151 [==============================] - 1s 6ms/step - loss: 0.0022 - accuracy: 0.9994 - val_loss: 3.5161e-04 - val_accuracy: 0.9999\n",
            "Epoch 46/50\n",
            "151/151 [==============================] - 1s 6ms/step - loss: 0.0011 - accuracy: 0.9997 - val_loss: 5.3544e-05 - val_accuracy: 1.0000\n",
            "Epoch 47/50\n",
            "151/151 [==============================] - 1s 6ms/step - loss: 0.0015 - accuracy: 0.9995 - val_loss: 1.9416e-04 - val_accuracy: 1.0000\n",
            "Epoch 48/50\n",
            "151/151 [==============================] - 1s 6ms/step - loss: 0.0063 - accuracy: 0.9983 - val_loss: 0.0014 - val_accuracy: 0.9994\n",
            "Epoch 49/50\n",
            "151/151 [==============================] - 1s 6ms/step - loss: 0.0102 - accuracy: 0.9973 - val_loss: 5.9689e-05 - val_accuracy: 1.0000\n",
            "Epoch 50/50\n",
            "151/151 [==============================] - 1s 6ms/step - loss: 0.0044 - accuracy: 0.9986 - val_loss: 1.2008e-04 - val_accuracy: 1.0000\n"
          ],
          "name": "stdout"
        }
      ]
    },
    {
      "cell_type": "code",
      "metadata": {
        "id": "eAfcqQrc42NX",
        "outputId": "03b7377e-04f6-46db-e622-4a046c249df1",
        "colab": {
          "base_uri": "https://localhost:8080/",
          "height": 499
        }
      },
      "source": [
        "acc = history.history['accuracy']\n",
        "val_acc = history.history['val_accuracy']\n",
        "\n",
        "loss = history.history['loss']\n",
        "val_loss = history.history['val_loss']\n",
        "\n",
        "epochs_range = range(epochs)\n",
        "\n",
        "plt.figure(figsize=(8, 8))\n",
        "plt.subplot(1, 2, 1)\n",
        "plt.plot(epochs_range, acc, label='Training Accuracy')\n",
        "plt.plot(epochs_range, val_acc, label='Validation Accuracy')\n",
        "plt.legend(loc='lower right')\n",
        "plt.title('Training and Validation Accuracy')\n",
        "\n",
        "plt.subplot(1, 2, 2)\n",
        "plt.plot(epochs_range, loss, label='Training Loss')\n",
        "plt.plot(epochs_range, val_loss, label='Validation Loss')\n",
        "plt.legend(loc='upper right')\n",
        "plt.title('Training and Validation Loss')\n",
        "plt.show()"
      ],
      "execution_count": 163,
      "outputs": [
        {
          "output_type": "display_data",
          "data": {
            "image/png": "[encoded data removed]",
            "text/plain": [
              "<Figure size 576x576 with 2 Axes>"
            ]
          },
          "metadata": {
            "tags": [],
            "needs_background": "light"
          }
        }
      ]
    },
    {
      "cell_type": "code",
      "metadata": {
        "id": "UFfP3nFw5V8D"
      },
      "source": [
        "test_labels = test['label']"
      ],
      "execution_count": 167,
      "outputs": []
    },
    {
      "cell_type": "code",
      "metadata": {
        "id": "UvUEA8CA5qqR"
      },
      "source": [
        "test.drop('label', axis = 1, inplace = True)"
      ],
      "execution_count": 168,
      "outputs": []
    },
    {
      "cell_type": "code",
      "metadata": {
        "id": "LbIpVwpq5uAP"
      },
      "source": [
        "test_images = test.values\n",
        "test_images = np.array([np.reshape(i, (28, 28)) for i in test_images])\n",
        "#test_images = np.array([i.flatten() for i in test_images])"
      ],
      "execution_count": 170,
      "outputs": []
    },
    {
      "cell_type": "code",
      "metadata": {
        "id": "dDwQ2zQm5xpX"
      },
      "source": [
        "test_labels = label_binrizer.fit_transform(test_labels)"
      ],
      "execution_count": 171,
      "outputs": []
    },
    {
      "cell_type": "code",
      "metadata": {
        "id": "JrY-sOKQ53tI"
      },
      "source": [
        "test_images = test_images.reshape(test_images.shape[0], 28, 28, 1)"
      ],
      "execution_count": 172,
      "outputs": []
    },
    {
      "cell_type": "code",
      "metadata": {
        "id": "tv_b7nwT574J"
      },
      "source": [
        "y_pred = model.predict(test_images)"
      ],
      "execution_count": 174,
      "outputs": []
    },
    {
      "cell_type": "code",
      "metadata": {
        "id": "LoUhz4-06HMa"
      },
      "source": [
        "from sklearn.metrics import accuracy_score"
      ],
      "execution_count": 175,
      "outputs": []
    },
    {
      "cell_type": "code",
      "metadata": {
        "id": "_oYQcq7X6Mfh",
        "outputId": "0eaa5a38-7313-4d6e-f1e4-ac2c549fb0ba",
        "colab": {
          "base_uri": "https://localhost:8080/",
          "height": 34
        }
      },
      "source": [
        "accuracy_score(test_labels, y_pred.round())"
      ],
      "execution_count": 176,
      "outputs": [
        {
          "output_type": "execute_result",
          "data": {
            "text/plain": [
              "0.9556609035136643"
            ]
          },
          "metadata": {
            "tags": []
          },
          "execution_count": 176
        }
      ]
    }
  ]
}