{
  "nbformat": 4,
  "nbformat_minor": 0,
  "metadata": {
    "colab": {
      "name": "ASLdetection.ipynb",
      "provenance": [],
      "collapsed_sections": [],
      "authorship_tag": "ABX9TyOfHNQmzziyiaRyXt15XLd8",
      "include_colab_link": true
    },
    "kernelspec": {
      "name": "python3",
      "display_name": "Python 3"
    },
    "accelerator": "GPU"
  },
  "cells": [
    {
      "cell_type": "markdown",
      "metadata": {
        "id": "view-in-github",
        "colab_type": "text"
      },
      "source": [
        "<a href=\"https://colab.research.google.com/github/Blackcipher101/ASL-detector/blob/main/ASLdetection.ipynb\" target=\"_parent\"><img src=\"https://colab.research.google.com/assets/colab-badge.svg\" alt=\"Open In Colab\"/></a>"
      ]
    },
    {
      "cell_type": "code",
      "metadata": {
        "id": "_wTNrFRjZ95a",
        "outputId": "b47be820-2723-4028-e2f7-3a4109ca2981",
        "colab": {
          "base_uri": "https://localhost:8080/",
          "height": 241
        }
      },
      "source": [
        "!pip install kaggle"
      ],
      "execution_count": 1,
      "outputs": [
        {
          "output_type": "stream",
          "text": [
            "Requirement already satisfied: kaggle in /usr/local/lib/python3.6/dist-packages (1.5.8)\n",
            "Requirement already satisfied: python-slugify in /usr/local/lib/python3.6/dist-packages (from kaggle) (4.0.1)\n",
            "Requirement already satisfied: requests in /usr/local/lib/python3.6/dist-packages (from kaggle) (2.23.0)\n",
            "Requirement already satisfied: python-dateutil in /usr/local/lib/python3.6/dist-packages (from kaggle) (2.8.1)\n",
            "Requirement already satisfied: tqdm in /usr/local/lib/python3.6/dist-packages (from kaggle) (4.41.1)\n",
            "Requirement already satisfied: certifi in /usr/local/lib/python3.6/dist-packages (from kaggle) (2020.6.20)\n",
            "Requirement already satisfied: slugify in /usr/local/lib/python3.6/dist-packages (from kaggle) (0.0.1)\n",
            "Requirement already satisfied: urllib3<1.25,>=1.21.1 in /usr/local/lib/python3.6/dist-packages (from kaggle) (1.24.3)\n",
            "Requirement already satisfied: six>=1.10 in /usr/local/lib/python3.6/dist-packages (from kaggle) (1.15.0)\n",
            "Requirement already satisfied: text-unidecode>=1.3 in /usr/local/lib/python3.6/dist-packages (from python-slugify->kaggle) (1.3)\n",
            "Requirement already satisfied: idna<3,>=2.5 in /usr/local/lib/python3.6/dist-packages (from requests->kaggle) (2.10)\n",
            "Requirement already satisfied: chardet<4,>=3.0.2 in /usr/local/lib/python3.6/dist-packages (from requests->kaggle) (3.0.4)\n"
          ],
          "name": "stdout"
        }
      ]
    },
    {
      "cell_type": "code",
      "metadata": {
        "id": "uuItsnRabX0j",
        "outputId": "066c1322-dade-4a2d-b58e-d3bb16973e22",
        "colab": {
          "base_uri": "https://localhost:8080/",
          "height": 34
        }
      },
      "source": [
        "!mkdir .kaggle"
      ],
      "execution_count": 69,
      "outputs": [
        {
          "output_type": "stream",
          "text": [
            "mkdir: cannot create directory ‘.kaggle’: File exists\n"
          ],
          "name": "stdout"
        }
      ]
    },
    {
      "cell_type": "code",
      "metadata": {
        "id": "6ZrOJ9bhbeP9"
      },
      "source": [
        "import json\n",
        "token = {\"username\":\"nehalnevle\",\"key\":\"f56fbefc794d7437f2952910cd1d058d\"}\n",
        "with open('/content/.kaggle/kaggle.json', 'w') as file:\n",
        "    json.dump(token, file)"
      ],
      "execution_count": 70,
      "outputs": []
    },
    {
      "cell_type": "code",
      "metadata": {
        "id": "2hV68CqUcFVh",
        "outputId": "34f68564-04f8-45a3-a3b7-a6cd9afb4f67",
        "colab": {
          "base_uri": "https://localhost:8080/",
          "height": 34
        }
      },
      "source": [
        "!mkdir /root/.kaggle"
      ],
      "execution_count": 71,
      "outputs": [
        {
          "output_type": "stream",
          "text": [
            "mkdir: cannot create directory ‘/root/.kaggle’: File exists\n"
          ],
          "name": "stdout"
        }
      ]
    },
    {
      "cell_type": "code",
      "metadata": {
        "id": "G8Pmhkpsbr1M"
      },
      "source": [
        "!cp /content/.kaggle/kaggle.json ~/.kaggle/kaggle.json"
      ],
      "execution_count": 72,
      "outputs": []
    },
    {
      "cell_type": "code",
      "metadata": {
        "id": "6e9ZdUaKczYw",
        "outputId": "95ecbc30-fce6-4d7f-c456-5cfcc5f4048b",
        "colab": {
          "base_uri": "https://localhost:8080/",
          "height": 71
        }
      },
      "source": [
        "!kaggle config set -n path -v/content"
      ],
      "execution_count": 7,
      "outputs": [
        {
          "output_type": "stream",
          "text": [
            "Warning: Your Kaggle API key is readable by other users on this system! To fix this, you can run 'chmod 600 /root/.kaggle/kaggle.json'\n",
            "- path is now set to: /content\n"
          ],
          "name": "stdout"
        }
      ]
    },
    {
      "cell_type": "code",
      "metadata": {
        "id": "4_7plypXc6jb"
      },
      "source": [
        "!chmod 600 /root/.kaggle/kaggle.json"
      ],
      "execution_count": 8,
      "outputs": []
    },
    {
      "cell_type": "code",
      "metadata": {
        "id": "5hgE8hOOdAAZ",
        "outputId": "b53045a7-25a5-420c-c830-a8e998479bd6",
        "colab": {
          "base_uri": "https://localhost:8080/",
          "height": 428
        }
      },
      "source": [
        "!kaggle datasets list"
      ],
      "execution_count": 73,
      "outputs": [
        {
          "output_type": "stream",
          "text": [
            "Warning: Looks like you're using an outdated API Version, please consider updating (server 1.5.6 / client 1.5.4)\n",
            "ref                                                               title                                                 size  lastUpdated          downloadCount  \n",
            "----------------------------------------------------------------  --------------------------------------------------  ------  -------------------  -------------  \n",
            "heeraldedhia/groceries-dataset                                    Groceries dataset                                    257KB  2020-09-17 04:36:08           1493  \n",
            "andrewmvd/trip-advisor-hotel-reviews                              Trip Advisor Hotel Reviews                             5MB  2020-09-30 08:31:20            910  \n",
            "balraj98/stanford-background-dataset                              Stanford Background Dataset                           17MB  2020-09-26 12:57:59            104  \n",
            "nehaprabhavalkar/indian-food-101                                  Indian Food 101                                        7KB  2020-09-30 06:23:43           1282  \n",
            "christianlillelund/donald-trumps-rallies                          Donald Trump's Rallies                               720KB  2020-09-26 10:25:08            233  \n",
            "jilkothari/finance-accounting-courses-udemy-13k-course            Finance & Accounting Courses - Udemy (13K+ course)  1000KB  2020-09-17 12:46:12            404  \n",
            "balraj98/massachusetts-roads-dataset                              Massachusetts Roads Dataset                            6GB  2020-09-26 03:57:49             85  \n",
            "arslanali4343/top-personality-dataset                             Top Personality Dataset                                9MB  2020-09-27 21:25:45            436  \n",
            "oldaandozerskaya/fiction-corpus-for-agebased-text-classification  RusAge: Corpus for Age-Based Text Classification     509MB  2020-09-28 09:30:12             21  \n",
            "gpreda/chinese-mnist                                              Chinese MNIST                                         10MB  2020-08-05 12:36:00            184  \n",
            "gpreda/local-elections-romania-2020                               Local Elections Romania 2020                          28MB  2020-09-27 20:46:11             73  \n",
            "anth7310/mental-health-in-the-tech-industry                       Mental Health in the Tech Industry                     2MB  2020-09-27 11:17:23            636  \n",
            "roshansharma/sanfranciso-crime-dataset                            Sanfranciso Crime Dataset                              6MB  2019-05-29 12:45:44           3292  \n",
            "bppuneethpai/tldr-summary-for-man-pages                           TLDR summary for man pages                             8MB  2020-09-25 09:50:10             12  \n",
            "sterby/german-recipes-dataset                                     German Recipes Dataset                                 5MB  2019-03-06 16:25:22            786  \n",
            "arslanali4343/real-estate-dataset                                 Real Estate DataSet                                   12KB  2020-09-28 21:25:33            520  \n",
            "leangab/poe-short-stories-corpuscsv                               E.A. Poe's corpus of short stories                   725KB  2020-09-28 11:43:08             60  \n",
            "thomaskonstantin/top-270-rated-computer-science-programing-books  Top 270 Computer Science / Programing Books           45KB  2020-09-28 16:47:12            243  \n",
            "anmolkumar/health-insurance-cross-sell-prediction                 Health Insurance Cross Sell Prediction 🏠 🏥             6MB  2020-09-11 18:39:31           3717  \n",
            "ramjidoolla/ipl-data-set                                          IPL _Data_Set                                          1MB  2020-09-14 10:57:42           3199  \n"
          ],
          "name": "stdout"
        }
      ]
    },
    {
      "cell_type": "code",
      "metadata": {
        "id": "ggdck_aqdJte",
        "outputId": "32b503db-20c2-48b6-a25a-964b8d216b47",
        "colab": {
          "base_uri": "https://localhost:8080/",
          "height": 68
        }
      },
      "source": [
        "!kaggle datasets download -d datamunge/sign-language-mnist"
      ],
      "execution_count": 74,
      "outputs": [
        {
          "output_type": "stream",
          "text": [
            "Downloading sign-language-mnist.zip to /content\n",
            " 66% 41.0M/62.6M [00:02<00:03, 7.42MB/s]\n",
            "100% 62.6M/62.6M [00:02<00:00, 31.0MB/s]\n"
          ],
          "name": "stdout"
        }
      ]
    },
    {
      "cell_type": "code",
      "metadata": {
        "id": "OwnxdfXIdWR4",
        "outputId": "82c3f115-ee00-4b9f-f2de-6166c57acba2",
        "colab": {
          "base_uri": "https://localhost:8080/",
          "height": 272
        }
      },
      "source": [
        "!unzip '/content/datasets/datamunge/sign-language-mnist/*.zip' "
      ],
      "execution_count": 75,
      "outputs": [
        {
          "output_type": "stream",
          "text": [
            "Archive:  /content/datasets/datamunge/sign-language-mnist/sign-language-mnist.zip\n",
            "replace amer_sign2.png? [y]es, [n]o, [A]ll, [N]one, [r]ename: y\n",
            "  inflating: amer_sign2.png          \n",
            "replace amer_sign3.png? [y]es, [n]o, [A]ll, [N]one, [r]ename: yy\n",
            "  inflating: amer_sign3.png          \n",
            "replace american_sign_language.PNG? [y]es, [n]o, [A]ll, [N]one, [r]ename: y\n",
            "  inflating: american_sign_language.PNG  \n",
            "replace sign_mnist_test.csv? [y]es, [n]o, [A]ll, [N]one, [r]ename: y\n",
            "  inflating: sign_mnist_test.csv     \n",
            "replace sign_mnist_test/sign_mnist_test.csv? [y]es, [n]o, [A]ll, [N]one, [r]ename: y\n",
            "  inflating: sign_mnist_test/sign_mnist_test.csv  \n",
            "replace sign_mnist_train.csv? [y]es, [n]o, [A]ll, [N]one, [r]ename: y\n",
            "  inflating: sign_mnist_train.csv    \n",
            "replace sign_mnist_train/sign_mnist_train.csv? [y]es, [n]o, [A]ll, [N]one, [r]ename: y\n",
            "  inflating: sign_mnist_train/sign_mnist_train.csv  \n"
          ],
          "name": "stdout"
        }
      ]
    },
    {
      "cell_type": "code",
      "metadata": {
        "id": "nVPfnoDvh49W"
      },
      "source": [
        "import os\n",
        "import numpy as np\n",
        "import glob\n",
        "import shutil\n",
        "import tensorflow as tf\n",
        "import matplotlib.pyplot as plt\n",
        "import pandas as pd"
      ],
      "execution_count": 76,
      "outputs": []
    },
    {
      "cell_type": "code",
      "metadata": {
        "id": "QuOvlqnuiNaK"
      },
      "source": [
        "train = pd.read_csv('/content/sign_mnist_train/sign_mnist_train.csv')\n",
        "test = pd.read_csv('/content/sign_mnist_test/sign_mnist_test.csv')"
      ],
      "execution_count": 77,
      "outputs": []
    },
    {
      "cell_type": "code",
      "metadata": {
        "id": "WmxXMPcKi7BW"
      },
      "source": [
        "labels = train['label'].values"
      ],
      "execution_count": 78,
      "outputs": []
    },
    {
      "cell_type": "code",
      "metadata": {
        "id": "zhMAKXZljfA9",
        "outputId": "b1764f24-56a3-45ed-ada4-edef873465e7",
        "colab": {
          "base_uri": "https://localhost:8080/",
          "height": 51
        }
      },
      "source": [
        "unique_val = np.array(labels)\n",
        "np.unique(unique_val)"
      ],
      "execution_count": 79,
      "outputs": [
        {
          "output_type": "execute_result",
          "data": {
            "text/plain": [
              "array([ 0,  1,  2,  3,  4,  5,  6,  7,  8, 10, 11, 12, 13, 14, 15, 16, 17,\n",
              "       18, 19, 20, 21, 22, 23, 24])"
            ]
          },
          "metadata": {
            "tags": []
          },
          "execution_count": 79
        }
      ]
    },
    {
      "cell_type": "code",
      "metadata": {
        "id": "BmHqxqkxjqAg"
      },
      "source": [
        "train.drop('label', axis = 1, inplace = True)"
      ],
      "execution_count": 80,
      "outputs": []
    },
    {
      "cell_type": "code",
      "metadata": {
        "id": "8D41HFZmm1Di"
      },
      "source": [
        "IMAGE_RES = 224"
      ],
      "execution_count": 81,
      "outputs": []
    },
    {
      "cell_type": "code",
      "metadata": {
        "id": "YE0dM5limY2R"
      },
      "source": [
        "images = train.values\n",
        "images = np.array([np.reshape(i, (28, 28)) for i in images])\n",
        "images = np.array([i.flatten() for i in images])"
      ],
      "execution_count": 94,
      "outputs": []
    },
    {
      "cell_type": "code",
      "metadata": {
        "id": "QtetdwmNmgiD",
        "outputId": "f8d031a0-76a9-4c61-9cf5-4e286bacb5dc",
        "colab": {
          "base_uri": "https://localhost:8080/",
          "height": 282
        }
      },
      "source": [
        "plt.imshow(images[0].reshape(28,28))"
      ],
      "execution_count": 95,
      "outputs": [
        {
          "output_type": "execute_result",
          "data": {
            "text/plain": [
              "<matplotlib.image.AxesImage at 0x7f4ca0752ac8>"
            ]
          },
          "metadata": {
            "tags": []
          },
          "execution_count": 95
        },
        {
          "output_type": "display_data",
          "data": {
            "image/png": "[encoded data removed]",
            "text/plain": [
              "<Figure size 432x288 with 1 Axes>"
            ]
          },
          "metadata": {
            "tags": [],
            "needs_background": "light"
          }
        }
      ]
    },
    {
      "cell_type": "code",
      "metadata": {
        "id": "cT87CEDWxI-4"
      },
      "source": [
        "from sklearn.model_selection import train_test_split"
      ],
      "execution_count": 96,
      "outputs": []
    },
    {
      "cell_type": "code",
      "metadata": {
        "id": "Mmk-6pZVxZDn"
      },
      "source": [
        "x_train, x_test, y_train, y_test = train_test_split(images, labels, test_size = 0.3, random_state = 101)"
      ],
      "execution_count": 97,
      "outputs": []
    },
    {
      "cell_type": "code",
      "metadata": {
        "id": "JJucYUlXx6kQ"
      },
      "source": [
        "x_train = x_train / 255\n",
        "x_test = x_test / 255"
      ],
      "execution_count": 98,
      "outputs": []
    },
    {
      "cell_type": "code",
      "metadata": {
        "id": "MBkj0tuJx-wa"
      },
      "source": [
        "x_train = x_train.reshape(x_train.shape[0], 28, 28, 1)\n",
        "x_test = x_test.reshape(x_test.shape[0], 28, 28, 1)"
      ],
      "execution_count": 99,
      "outputs": []
    },
    {
      "cell_type": "code",
      "metadata": {
        "id": "ere0qJh5yH5h"
      },
      "source": [
        "from sklearn.preprocessing import LabelBinarizer\n",
        "label_binrizer = LabelBinarizer()\n",
        "labels = label_binrizer.fit_transform(labels)"
      ],
      "execution_count": 100,
      "outputs": []
    },
    {
      "cell_type": "code",
      "metadata": {
        "id": "-MKw2Zinxnzp"
      },
      "source": [
        "\n",
        "model = tf.keras.models.Sequential([\n",
        "    tf.keras.layers.Conv2D(32, (3,3), padding='same', activation='relu', input_shape=(28, 28,1)),\n",
        "    tf.keras.layers.MaxPooling2D(2, 2),\n",
        "\n",
        "    tf.keras.layers.Conv2D(64, (3,3), padding='same', activation='relu'),\n",
        "    tf.keras.layers.MaxPooling2D(2,2),\n",
        "\n",
        "    tf.keras.layers.Conv2D(64, (3,3), padding='same', activation='relu'),\n",
        "    tf.keras.layers.MaxPooling2D(2,2),\n",
        "\n",
        "    tf.keras.layers.Dropout(0.2),\n",
        "    tf.keras.layers.Flatten(),\n",
        "    tf.keras.layers.Dense(128, activation='relu'),\n",
        "    tf.keras.layers.Dense(24,activation = 'softmax')\n",
        "])"
      ],
      "execution_count": 152,
      "outputs": []
    },
    {
      "cell_type": "code",
      "metadata": {
        "id": "S_MHrvunyQOO"
      },
      "source": [
        "batch_size = 128\n",
        "num_classes = 24\n",
        "epochs = 50"
      ],
      "execution_count": 102,
      "outputs": []
    },
    {
      "cell_type": "code",
      "metadata": {
        "id": "SWnxaWdFyVXW"
      },
      "source": [
        "model.compile(loss = tf.keras.losses.categorical_crossentropy, optimizer=tf.keras.optimizers.Adam(),\n",
        "              metrics=['accuracy'])"
      ],
      "execution_count": 103,
      "outputs": []
    },
    {
      "cell_type": "code",
      "metadata": {
        "id": "dft6GSeQyyDz",
        "outputId": "6c699937-f313-4ba9-f940-7c972f702a9e",
        "colab": {
          "base_uri": "https://localhost:8080/",
          "height": 493
        }
      },
      "source": [
        "model.summary()"
      ],
      "execution_count": 104,
      "outputs": [
        {
          "output_type": "stream",
          "text": [
            "Model: \"sequential_6\"\n",
            "_________________________________________________________________\n",
            "Layer (type)                 Output Shape              Param #   \n",
            "=================================================================\n",
            "conv2d_18 (Conv2D)           (None, 28, 28, 32)        320       \n",
            "_________________________________________________________________\n",
            "max_pooling2d_18 (MaxPooling (None, 14, 14, 32)        0         \n",
            "_________________________________________________________________\n",
            "conv2d_19 (Conv2D)           (None, 14, 14, 64)        18496     \n",
            "_________________________________________________________________\n",
            "max_pooling2d_19 (MaxPooling (None, 7, 7, 64)          0         \n",
            "_________________________________________________________________\n",
            "conv2d_20 (Conv2D)           (None, 7, 7, 64)          36928     \n",
            "_________________________________________________________________\n",
            "max_pooling2d_20 (MaxPooling (None, 3, 3, 64)          0         \n",
            "_________________________________________________________________\n",
            "dropout_6 (Dropout)          (None, 3, 3, 64)          0         \n",
            "_________________________________________________________________\n",
            "flatten_6 (Flatten)          (None, 576)               0         \n",
            "_________________________________________________________________\n",
            "dense_12 (Dense)             (None, 128)               73856     \n",
            "_________________________________________________________________\n",
            "dense_13 (Dense)             (None, 24)                3096      \n",
            "=================================================================\n",
            "Total params: 132,696\n",
            "Trainable params: 132,696\n",
            "Non-trainable params: 0\n",
            "_________________________________________________________________\n"
          ],
          "name": "stdout"
        }
      ]
    },
    {
      "cell_type": "code",
      "metadata": {
        "id": "E7W8Q68Ry6OQ",
        "outputId": "85d44014-afde-4707-a807-63322d8bdf55",
        "colab": {
          "base_uri": "https://localhost:8080/",
          "height": 1000
        }
      },
      "source": [
        "history = model.fit(x_train, y_train, validation_data = (x_test, y_test), epochs=epochs, batch_size=batch_size)"
      ],
      "execution_count": 105,
      "outputs": [
        {
          "output_type": "stream",
          "text": [
            "Epoch 1/50\n",
            "151/151 [==============================] - 1s 8ms/step - loss: 2.1498 - accuracy: 0.3506 - val_loss: 0.7477 - val_accuracy: 0.7567\n",
            "Epoch 2/50\n",
            "151/151 [==============================] - 1s 6ms/step - loss: 0.4849 - accuracy: 0.8408 - val_loss: 0.1816 - val_accuracy: 0.9590\n",
            "Epoch 3/50\n",
            "151/151 [==============================] - 1s 6ms/step - loss: 0.1998 - accuracy: 0.9367 - val_loss: 0.0924 - val_accuracy: 0.9752\n",
            "Epoch 4/50\n",
            "151/151 [==============================] - 1s 6ms/step - loss: 0.0995 - accuracy: 0.9714 - val_loss: 0.0315 - val_accuracy: 0.9981\n",
            "Epoch 5/50\n",
            "151/151 [==============================] - 1s 6ms/step - loss: 0.0602 - accuracy: 0.9841 - val_loss: 0.0105 - val_accuracy: 0.9988\n",
            "Epoch 6/50\n",
            "151/151 [==============================] - 1s 6ms/step - loss: 0.0348 - accuracy: 0.9906 - val_loss: 0.0089 - val_accuracy: 0.9995\n",
            "Epoch 7/50\n",
            "151/151 [==============================] - 1s 6ms/step - loss: 0.0256 - accuracy: 0.9940 - val_loss: 0.0066 - val_accuracy: 0.9995\n",
            "Epoch 8/50\n",
            "151/151 [==============================] - 1s 6ms/step - loss: 0.0222 - accuracy: 0.9938 - val_loss: 0.0032 - val_accuracy: 0.9999\n",
            "Epoch 9/50\n",
            "151/151 [==============================] - 1s 6ms/step - loss: 0.0203 - accuracy: 0.9944 - val_loss: 0.0030 - val_accuracy: 0.9999\n",
            "Epoch 10/50\n",
            "151/151 [==============================] - 1s 7ms/step - loss: 0.0137 - accuracy: 0.9965 - val_loss: 0.0024 - val_accuracy: 0.9999\n",
            "Epoch 11/50\n",
            "151/151 [==============================] - 1s 6ms/step - loss: 0.0141 - accuracy: 0.9960 - val_loss: 0.0019 - val_accuracy: 0.9999\n",
            "Epoch 12/50\n",
            "151/151 [==============================] - 1s 6ms/step - loss: 0.0114 - accuracy: 0.9967 - val_loss: 0.0012 - val_accuracy: 1.0000\n",
            "Epoch 13/50\n",
            "151/151 [==============================] - 1s 6ms/step - loss: 0.0088 - accuracy: 0.9977 - val_loss: 0.0014 - val_accuracy: 0.9999\n",
            "Epoch 14/50\n",
            "151/151 [==============================] - 1s 6ms/step - loss: 0.0129 - accuracy: 0.9963 - val_loss: 0.0021 - val_accuracy: 0.9999\n",
            "Epoch 15/50\n",
            "151/151 [==============================] - 1s 6ms/step - loss: 0.0068 - accuracy: 0.9984 - val_loss: 6.3356e-04 - val_accuracy: 1.0000\n",
            "Epoch 16/50\n",
            "151/151 [==============================] - 1s 6ms/step - loss: 0.0100 - accuracy: 0.9976 - val_loss: 0.0021 - val_accuracy: 0.9993\n",
            "Epoch 17/50\n",
            "151/151 [==============================] - 1s 6ms/step - loss: 0.0153 - accuracy: 0.9956 - val_loss: 7.6200e-04 - val_accuracy: 1.0000\n",
            "Epoch 18/50\n",
            "151/151 [==============================] - 1s 6ms/step - loss: 0.0114 - accuracy: 0.9965 - val_loss: 0.0013 - val_accuracy: 1.0000\n",
            "Epoch 19/50\n",
            "151/151 [==============================] - 1s 6ms/step - loss: 0.0071 - accuracy: 0.9978 - val_loss: 2.6169e-04 - val_accuracy: 1.0000\n",
            "Epoch 20/50\n",
            "151/151 [==============================] - 1s 6ms/step - loss: 0.0079 - accuracy: 0.9976 - val_loss: 3.0961e-04 - val_accuracy: 1.0000\n",
            "Epoch 21/50\n",
            "151/151 [==============================] - 1s 6ms/step - loss: 0.0066 - accuracy: 0.9978 - val_loss: 6.3216e-04 - val_accuracy: 0.9999\n",
            "Epoch 22/50\n",
            "151/151 [==============================] - 1s 6ms/step - loss: 0.0043 - accuracy: 0.9987 - val_loss: 6.7629e-04 - val_accuracy: 0.9999\n",
            "Epoch 23/50\n",
            "151/151 [==============================] - 1s 6ms/step - loss: 0.0098 - accuracy: 0.9969 - val_loss: 6.3143e-04 - val_accuracy: 0.9999\n",
            "Epoch 24/50\n",
            "151/151 [==============================] - 1s 6ms/step - loss: 0.0028 - accuracy: 0.9993 - val_loss: 0.0084 - val_accuracy: 0.9982\n",
            "Epoch 25/50\n",
            "151/151 [==============================] - 1s 6ms/step - loss: 0.0134 - accuracy: 0.9953 - val_loss: 2.0019e-04 - val_accuracy: 1.0000\n",
            "Epoch 26/50\n",
            "151/151 [==============================] - 1s 6ms/step - loss: 0.0106 - accuracy: 0.9972 - val_loss: 3.6257e-04 - val_accuracy: 1.0000\n",
            "Epoch 27/50\n",
            "151/151 [==============================] - 1s 6ms/step - loss: 0.0165 - accuracy: 0.9949 - val_loss: 0.0117 - val_accuracy: 0.9961\n",
            "Epoch 28/50\n",
            "151/151 [==============================] - 1s 6ms/step - loss: 0.0042 - accuracy: 0.9989 - val_loss: 6.2167e-04 - val_accuracy: 0.9999\n",
            "Epoch 29/50\n",
            "151/151 [==============================] - 1s 6ms/step - loss: 0.0044 - accuracy: 0.9986 - val_loss: 0.0012 - val_accuracy: 0.9998\n",
            "Epoch 30/50\n",
            "151/151 [==============================] - 1s 6ms/step - loss: 0.0035 - accuracy: 0.9991 - val_loss: 1.6232e-04 - val_accuracy: 1.0000\n",
            "Epoch 31/50\n",
            "151/151 [==============================] - 1s 6ms/step - loss: 0.0059 - accuracy: 0.9980 - val_loss: 5.5916e-04 - val_accuracy: 1.0000\n",
            "Epoch 32/50\n",
            "151/151 [==============================] - 1s 6ms/step - loss: 8.8031e-04 - accuracy: 0.9998 - val_loss: 5.1159e-05 - val_accuracy: 1.0000\n",
            "Epoch 33/50\n",
            "151/151 [==============================] - 1s 7ms/step - loss: 0.0071 - accuracy: 0.9976 - val_loss: 2.2489e-04 - val_accuracy: 1.0000\n",
            "Epoch 34/50\n",
            "151/151 [==============================] - 1s 6ms/step - loss: 0.0023 - accuracy: 0.9994 - val_loss: 6.1264e-05 - val_accuracy: 1.0000\n",
            "Epoch 35/50\n",
            "151/151 [==============================] - 1s 6ms/step - loss: 0.0089 - accuracy: 0.9971 - val_loss: 0.0034 - val_accuracy: 0.9990\n",
            "Epoch 36/50\n",
            "151/151 [==============================] - 1s 7ms/step - loss: 0.0040 - accuracy: 0.9989 - val_loss: 6.1227e-05 - val_accuracy: 1.0000\n",
            "Epoch 37/50\n",
            "151/151 [==============================] - 1s 6ms/step - loss: 0.0048 - accuracy: 0.9985 - val_loss: 0.0020 - val_accuracy: 0.9995\n",
            "Epoch 38/50\n",
            "151/151 [==============================] - 1s 6ms/step - loss: 0.0147 - accuracy: 0.9955 - val_loss: 8.9386e-04 - val_accuracy: 0.9999\n",
            "Epoch 39/50\n",
            "151/151 [==============================] - 1s 7ms/step - loss: 0.0073 - accuracy: 0.9979 - val_loss: 1.1662e-04 - val_accuracy: 1.0000\n",
            "Epoch 40/50\n",
            "151/151 [==============================] - 1s 6ms/step - loss: 0.0011 - accuracy: 0.9997 - val_loss: 4.1099e-05 - val_accuracy: 1.0000\n",
            "Epoch 41/50\n",
            "151/151 [==============================] - 1s 6ms/step - loss: 0.0028 - accuracy: 0.9993 - val_loss: 1.7996e-04 - val_accuracy: 1.0000\n",
            "Epoch 42/50\n",
            "151/151 [==============================] - 1s 6ms/step - loss: 0.0046 - accuracy: 0.9986 - val_loss: 1.4277e-04 - val_accuracy: 1.0000\n",
            "Epoch 43/50\n",
            "151/151 [==============================] - 1s 6ms/step - loss: 0.0057 - accuracy: 0.9980 - val_loss: 1.6532e-04 - val_accuracy: 1.0000\n",
            "Epoch 44/50\n",
            "151/151 [==============================] - 1s 6ms/step - loss: 0.0014 - accuracy: 0.9996 - val_loss: 1.0051e-05 - val_accuracy: 1.0000\n",
            "Epoch 45/50\n",
            "151/151 [==============================] - 1s 6ms/step - loss: 0.0029 - accuracy: 0.9993 - val_loss: 7.2475e-05 - val_accuracy: 1.0000\n",
            "Epoch 46/50\n",
            "151/151 [==============================] - 1s 6ms/step - loss: 7.4416e-04 - accuracy: 0.9999 - val_loss: 4.7644e-06 - val_accuracy: 1.0000\n",
            "Epoch 47/50\n",
            "151/151 [==============================] - 1s 6ms/step - loss: 4.2526e-04 - accuracy: 0.9998 - val_loss: 9.5568e-06 - val_accuracy: 1.0000\n",
            "Epoch 48/50\n",
            "151/151 [==============================] - 1s 6ms/step - loss: 0.0023 - accuracy: 0.9993 - val_loss: 4.8667e-04 - val_accuracy: 0.9998\n",
            "Epoch 49/50\n",
            "151/151 [==============================] - 1s 6ms/step - loss: 0.0072 - accuracy: 0.9978 - val_loss: 2.3033e-04 - val_accuracy: 1.0000\n",
            "Epoch 50/50\n",
            "151/151 [==============================] - 1s 6ms/step - loss: 0.0020 - accuracy: 0.9994 - val_loss: 1.8962e-04 - val_accuracy: 1.0000\n"
          ],
          "name": "stdout"
        }
      ]
    },
    {
      "cell_type": "code",
      "metadata": {
        "id": "eAfcqQrc42NX",
        "outputId": "57d77355-c74f-4de1-e6ed-cc4ff4942d03",
        "colab": {
          "base_uri": "https://localhost:8080/",
          "height": 499
        }
      },
      "source": [
        "acc = history.history['accuracy']\n",
        "val_acc = history.history['val_accuracy']\n",
        "\n",
        "loss = history.history['loss']\n",
        "val_loss = history.history['val_loss']\n",
        "\n",
        "epochs_range = range(epochs)\n",
        "\n",
        "plt.figure(figsize=(8, 8))\n",
        "plt.subplot(1, 2, 1)\n",
        "plt.plot(epochs_range, acc, label='Training Accuracy')\n",
        "plt.plot(epochs_range, val_acc, label='Validation Accuracy')\n",
        "plt.legend(loc='lower right')\n",
        "plt.title('Training and Validation Accuracy')\n",
        "\n",
        "plt.subplot(1, 2, 2)\n",
        "plt.plot(epochs_range, loss, label='Training Loss')\n",
        "plt.plot(epochs_range, val_loss, label='Validation Loss')\n",
        "plt.legend(loc='upper right')\n",
        "plt.title('Training and Validation Loss')\n",
        "plt.show()"
      ],
      "execution_count": 106,
      "outputs": [
        {
          "output_type": "display_data",
          "data": {
            "image/png": "[encoded data removed]",
            "text/plain": [
              "<Figure size 576x576 with 2 Axes>"
            ]
          },
          "metadata": {
            "tags": [],
            "needs_background": "light"
          }
        }
      ]
    },
    {
      "cell_type": "code",
      "metadata": {
        "id": "UFfP3nFw5V8D"
      },
      "source": [
        "test_labels = test['label']"
      ],
      "execution_count": 107,
      "outputs": []
    },
    {
      "cell_type": "code",
      "metadata": {
        "id": "UvUEA8CA5qqR"
      },
      "source": [
        "test.drop('label', axis = 1, inplace = True)"
      ],
      "execution_count": 108,
      "outputs": []
    },
    {
      "cell_type": "code",
      "metadata": {
        "id": "LbIpVwpq5uAP"
      },
      "source": [
        "test_images = test.values\n",
        "test_images = np.array([np.reshape(i, (28, 28)) for i in test_images])\n",
        "test_images = np.array([i.flatten() for i in test_images])"
      ],
      "execution_count": 109,
      "outputs": []
    },
    {
      "cell_type": "code",
      "metadata": {
        "id": "dDwQ2zQm5xpX"
      },
      "source": [
        "test_labels = label_binrizer.fit_transform(test_labels)"
      ],
      "execution_count": 110,
      "outputs": []
    },
    {
      "cell_type": "code",
      "metadata": {
        "id": "JrY-sOKQ53tI"
      },
      "source": [
        "test_images = test_images.reshape(test_images.shape[0], 28, 28, 1)"
      ],
      "execution_count": 111,
      "outputs": []
    },
    {
      "cell_type": "code",
      "metadata": {
        "id": "tv_b7nwT574J"
      },
      "source": [
        "y_pred = model.predict(test_images)"
      ],
      "execution_count": 112,
      "outputs": []
    },
    {
      "cell_type": "code",
      "metadata": {
        "id": "LoUhz4-06HMa"
      },
      "source": [
        "from sklearn.metrics import accuracy_score"
      ],
      "execution_count": 113,
      "outputs": []
    },
    {
      "cell_type": "code",
      "metadata": {
        "id": "_oYQcq7X6Mfh",
        "outputId": "cbd1c11e-c57f-4cfa-be2e-9d8fc688a842",
        "colab": {
          "base_uri": "https://localhost:8080/",
          "height": 34
        }
      },
      "source": [
        "accuracy_score(test_labels, y_pred.round())"
      ],
      "execution_count": 114,
      "outputs": [
        {
          "output_type": "execute_result",
          "data": {
            "text/plain": [
              "0.9235917456776352"
            ]
          },
          "metadata": {
            "tags": []
          },
          "execution_count": 114
        }
      ]
    },
    {
      "cell_type": "code",
      "metadata": {
        "id": "OAl2WpqW329a"
      },
      "source": [
        "import cv2"
      ],
      "execution_count": 115,
      "outputs": []
    },
    {
      "cell_type": "code",
      "metadata": {
        "id": "B9uU5uyc8L_m"
      },
      "source": [
        "from google.colab.patches import cv2_imshow"
      ],
      "execution_count": 118,
      "outputs": []
    },
    {
      "cell_type": "code",
      "metadata": {
        "id": "NSdzhB5Y-KLJ",
        "outputId": "5a0e03c6-b8bf-46ed-9c31-d3209f38ba26",
        "colab": {
          "base_uri": "https://localhost:8080/",
          "height": 68
        }
      },
      "source": [
        "!curl -o logo.png https://burst.shopifycdn.com/photos/the-letter-a-displayed-in-american-sign-language.jpg?width=4460&height=4460&exif=1&iptc=1&attachment=the-letter-a-displayed-in-american-sign-language.jpg"
      ],
      "execution_count": 322,
      "outputs": [
        {
          "output_type": "stream",
          "text": [
            "  % Total    % Received % Xferd  Average Speed   Time    Time     Time  Current\n",
            "                                 Dload  Upload   Total   Spent    Left  Speed\n",
            "100  403k  100  403k    0     0   197k      0  0:00:02  0:00:02 --:--:--  197k\n"
          ],
          "name": "stdout"
        }
      ]
    },
    {
      "cell_type": "code",
      "metadata": {
        "id": "lrApr3A2-Tyl",
        "outputId": "a2397066-0365-40d6-d5d0-b9ce708c431b",
        "colab": {
          "base_uri": "https://localhost:8080/",
          "height": 418
        }
      },
      "source": [
        "import numpy as np\n",
        "img = cv2.imread('logo.png',0)\n",
        "\n",
        "y=800\n",
        "x=1900\n",
        "h=1000\n",
        "w=900\n",
        "crop_img = img1[y:y+h, x:x+w]\n",
        "im=cv2.resize(crop_img,(28,28))\n",
        "#im.reshape((28,28))\n",
        "\n",
        "print(im.shape) # (28,28)\n",
        "\n",
        "\n",
        "plt.imshow(im)\n",
        "batch = np.expand_dims(im,axis=0)\n",
        "print(batch.shape) # (1, 28, 28)\n",
        "batch = np.expand_dims(batch,axis=3)\n",
        "print(batch.shape) # (1, 28, 28,1)\n",
        "\n",
        "\n",
        "\n",
        "\n",
        "test=model.predict(batch)\n",
        "print(test)\n",
        "predicted_ids = np.argmax(test, axis=-1)\n",
        "print(predicted_ids)"
      ],
      "execution_count": 370,
      "outputs": [
        {
          "output_type": "stream",
          "text": [
            "(28, 28)\n",
            "(1, 28, 28)\n",
            "(1, 28, 28, 1)\n",
            "[[3.9492362e-10 1.6131402e-05 3.2541773e-01 4.6659488e-06 5.6828793e-13\n",
            "  6.3687495e-09 1.0240949e-03 1.4523340e-03 6.1110154e-07 2.5721230e-09\n",
            "  1.6406263e-07 6.7915701e-10 1.2823224e-10 2.5775657e-08 1.1889080e-06\n",
            "  9.4860066e-09 1.2620299e-02 6.4594644e-01 1.4802860e-06 9.4493043e-07\n",
            "  1.4711722e-13 2.5472556e-07 1.3513689e-02 4.4617410e-10]]\n",
            "[17]\n"
          ],
          "name": "stdout"
        },
        {
          "output_type": "display_data",
          "data": {
            "image/png": "[encoded data removed]",
            "text/plain": [
              "<Figure size 432x288 with 1 Axes>"
            ]
          },
          "metadata": {
            "tags": [],
            "needs_background": "light"
          }
        }
      ]
    }
  ]
}